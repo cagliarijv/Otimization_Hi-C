{
 "cells": [
  {
   "cell_type": "code",
   "execution_count": 1,
   "metadata": {},
   "outputs": [
    {
     "name": "stdout",
     "output_type": "stream",
     "text": [
      "Trajetória do Chr10 compilada\n"
     ]
    }
   ],
   "source": [
    "import os\n",
    "\n",
    "def compilar(name_input_file, name_file_output):\n",
    "    # Obter o diretório atual\n",
    "    current_directory = os.getcwd()\n",
    "    last_directory = os.path.basename(current_directory)\n",
    "\n",
    "    # Caminho para a pasta com os arquivos\n",
    "    path = r'C:\\Users\\joao_vitor\\Documents\\Doutorado\\chromatin_simulation\\diretorio_atual\\iteration_0'\n",
    "\n",
    "    # Substituir 'diretorio_atual' pelo valor de last_directory\n",
    "    updated_path = path.replace('diretorio_atual', last_directory)\n",
    "\n",
    "    # Verificar se o diretório atualizado existe\n",
    "    if not os.path.exists(updated_path):\n",
    "        raise FileNotFoundError(f\"O diretório {updated_path} não existe.\")\n",
    "\n",
    "    # Listar os arquivos na pasta que seguem o padrão desejado\n",
    "    files = [file for file in os.listdir(updated_path) if file.startswith(name_input_file) and file.endswith(\".gro\")]\n",
    "\n",
    "    # Ordenar os arquivos numericamente com base na parte numérica do nome\n",
    "    files = sorted(files, key=lambda x: int(x.split('_state')[1].split('.gro')[0]))\n",
    "\n",
    "    # Criar o arquivo de saída\n",
    "    output_file = os.path.join(updated_path, name_file_output)\n",
    "\n",
    "    with open(output_file, \"w\") as outfile:\n",
    "        for file in files:\n",
    "            with open(os.path.join(updated_path, file), \"r\") as infile:\n",
    "                lines = infile.readlines()\n",
    "                # Escrever o cabeçalho (primeira linha do frame)\n",
    "                outfile.write(lines[0])  # Exemplo: \"chr10_0\"\n",
    "                # Escrever o número de átomos (segunda linha do frame)\n",
    "                outfile.write(lines[1])  # Exemplo: \"2712\"\n",
    "                # Escrever as coordenadas atômicas\n",
    "                for line in lines[2:-1]:  # Exclui a última linha original (caixa de simulação)\n",
    "                    outfile.write(line)\n",
    "                # Adicionar a linha final para a caixa de simulação\n",
    "                outfile.write(lines[-1])  # Exemplo: \"0.00000   0.00000   0.00000\"\n",
    "\n",
    "    \n",
    "compilar('opt_chr10_100K_0_state', 'all_frame_chr10.gro')\n",
    "print('Trajetória do Chr10 compilada')"
   ]
  }
 ],
 "metadata": {
  "kernelspec": {
   "display_name": "simulations",
   "language": "python",
   "name": "python3"
  },
  "language_info": {
   "codemirror_mode": {
    "name": "ipython",
    "version": 3
   },
   "file_extension": ".py",
   "mimetype": "text/x-python",
   "name": "python",
   "nbconvert_exporter": "python",
   "pygments_lexer": "ipython3",
   "version": "3.9.19"
  }
 },
 "nbformat": 4,
 "nbformat_minor": 2
}
